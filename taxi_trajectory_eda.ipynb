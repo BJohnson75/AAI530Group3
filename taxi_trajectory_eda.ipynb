{
 "cells": [
  {
   "cell_type": "markdown",
   "metadata": {},
   "source": [
    "- Load the dataset into a Pandas DataFrame.\n",
    "- Display the first few rows.\n",
    "- Get an overview of the dataset (columns, data types, missing values, etc.)."
   ]
  },
  {
   "cell_type": "code",
   "execution_count": 40,
   "metadata": {},
   "outputs": [],
   "source": [
    "import pandas as pd\n",
    "import ast\n",
    "import seaborn as sns\n",
    "import matplotlib.pyplot as plt"
   ]
  },
  {
   "cell_type": "code",
   "execution_count": 9,
   "metadata": {},
   "outputs": [
    {
     "data": {
      "text/html": [
       "<div>\n",
       "<style scoped>\n",
       "    .dataframe tbody tr th:only-of-type {\n",
       "        vertical-align: middle;\n",
       "    }\n",
       "\n",
       "    .dataframe tbody tr th {\n",
       "        vertical-align: top;\n",
       "    }\n",
       "\n",
       "    .dataframe thead th {\n",
       "        text-align: right;\n",
       "    }\n",
       "</style>\n",
       "<table border=\"1\" class=\"dataframe\">\n",
       "  <thead>\n",
       "    <tr style=\"text-align: right;\">\n",
       "      <th></th>\n",
       "      <th>Unnamed: 0</th>\n",
       "      <th>TRIP_ID</th>\n",
       "      <th>CALL_TYPE</th>\n",
       "      <th>ORIGIN_CALL</th>\n",
       "      <th>ORIGIN_STAND</th>\n",
       "      <th>TAXI_ID</th>\n",
       "      <th>TIMESTAMP</th>\n",
       "      <th>DAY_TYPE</th>\n",
       "      <th>MISSING_DATA</th>\n",
       "      <th>POLYLINE</th>\n",
       "    </tr>\n",
       "  </thead>\n",
       "  <tbody>\n",
       "    <tr>\n",
       "      <th>0</th>\n",
       "      <td>0</td>\n",
       "      <td>1372636858620000589</td>\n",
       "      <td>C</td>\n",
       "      <td>NaN</td>\n",
       "      <td>NaN</td>\n",
       "      <td>20000589</td>\n",
       "      <td>1372636858</td>\n",
       "      <td>A</td>\n",
       "      <td>False</td>\n",
       "      <td>[[-8.618643,41.141412],[-8.618499,41.141376],[...</td>\n",
       "    </tr>\n",
       "    <tr>\n",
       "      <th>1</th>\n",
       "      <td>1</td>\n",
       "      <td>1372637303620000596</td>\n",
       "      <td>B</td>\n",
       "      <td>NaN</td>\n",
       "      <td>7.0</td>\n",
       "      <td>20000596</td>\n",
       "      <td>1372637303</td>\n",
       "      <td>A</td>\n",
       "      <td>False</td>\n",
       "      <td>[[-8.639847,41.159826],[-8.640351,41.159871],[...</td>\n",
       "    </tr>\n",
       "    <tr>\n",
       "      <th>2</th>\n",
       "      <td>2</td>\n",
       "      <td>1372636951620000320</td>\n",
       "      <td>C</td>\n",
       "      <td>NaN</td>\n",
       "      <td>NaN</td>\n",
       "      <td>20000320</td>\n",
       "      <td>1372636951</td>\n",
       "      <td>A</td>\n",
       "      <td>False</td>\n",
       "      <td>[[-8.612964,41.140359],[-8.613378,41.14035],[-...</td>\n",
       "    </tr>\n",
       "    <tr>\n",
       "      <th>3</th>\n",
       "      <td>3</td>\n",
       "      <td>1372636854620000520</td>\n",
       "      <td>C</td>\n",
       "      <td>NaN</td>\n",
       "      <td>NaN</td>\n",
       "      <td>20000520</td>\n",
       "      <td>1372636854</td>\n",
       "      <td>A</td>\n",
       "      <td>False</td>\n",
       "      <td>[[-8.574678,41.151951],[-8.574705,41.151942],[...</td>\n",
       "    </tr>\n",
       "    <tr>\n",
       "      <th>4</th>\n",
       "      <td>4</td>\n",
       "      <td>1372637091620000337</td>\n",
       "      <td>C</td>\n",
       "      <td>NaN</td>\n",
       "      <td>NaN</td>\n",
       "      <td>20000337</td>\n",
       "      <td>1372637091</td>\n",
       "      <td>A</td>\n",
       "      <td>False</td>\n",
       "      <td>[[-8.645994,41.18049],[-8.645949,41.180517],[-...</td>\n",
       "    </tr>\n",
       "  </tbody>\n",
       "</table>\n",
       "</div>"
      ],
      "text/plain": [
       "   Unnamed: 0              TRIP_ID CALL_TYPE  ORIGIN_CALL  ORIGIN_STAND  \\\n",
       "0           0  1372636858620000589         C          NaN           NaN   \n",
       "1           1  1372637303620000596         B          NaN           7.0   \n",
       "2           2  1372636951620000320         C          NaN           NaN   \n",
       "3           3  1372636854620000520         C          NaN           NaN   \n",
       "4           4  1372637091620000337         C          NaN           NaN   \n",
       "\n",
       "    TAXI_ID   TIMESTAMP DAY_TYPE  MISSING_DATA  \\\n",
       "0  20000589  1372636858        A         False   \n",
       "1  20000596  1372637303        A         False   \n",
       "2  20000320  1372636951        A         False   \n",
       "3  20000520  1372636854        A         False   \n",
       "4  20000337  1372637091        A         False   \n",
       "\n",
       "                                            POLYLINE  \n",
       "0  [[-8.618643,41.141412],[-8.618499,41.141376],[...  \n",
       "1  [[-8.639847,41.159826],[-8.640351,41.159871],[...  \n",
       "2  [[-8.612964,41.140359],[-8.613378,41.14035],[-...  \n",
       "3  [[-8.574678,41.151951],[-8.574705,41.151942],[...  \n",
       "4  [[-8.645994,41.18049],[-8.645949,41.180517],[-...  "
      ]
     },
     "execution_count": 9,
     "metadata": {},
     "output_type": "execute_result"
    }
   ],
   "source": [
    "# Load the dataset\n",
    "file_path = 'taxi_trajectories/train.csv'  \n",
    "df = pd.read_csv(file_path)\n",
    "\n",
    "df.head()"
   ]
  },
  {
   "cell_type": "code",
   "execution_count": 10,
   "metadata": {},
   "outputs": [
    {
     "data": {
      "text/plain": [
       "(1710660, 10)"
      ]
     },
     "execution_count": 10,
     "metadata": {},
     "output_type": "execute_result"
    }
   ],
   "source": [
    "# filter missing data\n",
    "df = df[df['MISSING_DATA'] == False]\n",
    "\n",
    "df.shape"
   ]
  },
  {
   "cell_type": "code",
   "execution_count": 11,
   "metadata": {},
   "outputs": [
    {
     "name": "stdout",
     "output_type": "stream",
     "text": [
      "\n",
      "Dataset Info:\n",
      "<class 'pandas.core.frame.DataFrame'>\n",
      "Index: 1710660 entries, 0 to 1710669\n",
      "Data columns (total 10 columns):\n",
      " #   Column        Dtype  \n",
      "---  ------        -----  \n",
      " 0   Unnamed: 0    int64  \n",
      " 1   TRIP_ID       int64  \n",
      " 2   CALL_TYPE     object \n",
      " 3   ORIGIN_CALL   float64\n",
      " 4   ORIGIN_STAND  float64\n",
      " 5   TAXI_ID       int64  \n",
      " 6   TIMESTAMP     int64  \n",
      " 7   DAY_TYPE      object \n",
      " 8   MISSING_DATA  bool   \n",
      " 9   POLYLINE      object \n",
      "dtypes: bool(1), float64(2), int64(4), object(3)\n",
      "memory usage: 132.1+ MB\n"
     ]
    }
   ],
   "source": [
    "\n",
    "# Get basic info about the dataset\n",
    "print(\"\\nDataset Info:\")\n",
    "df.info()\n"
   ]
  },
  {
   "cell_type": "code",
   "execution_count": 12,
   "metadata": {},
   "outputs": [],
   "source": [
    "# Polyline cleanup\n",
    "\n",
    "# Convert POLYLINE from string to list\n",
    "df['POLYLINE'] = df['POLYLINE'].apply(ast.literal_eval)\n",
    "\n",
    "# POLYLINE should contain at least two GPS points for valid trajectories.\n",
    "# Filter rows with less than 2 GPS points\n",
    "df = df[df['POLYLINE'].apply(len) > 1]"
   ]
  },
  {
   "cell_type": "code",
   "execution_count": 14,
   "metadata": {},
   "outputs": [
    {
     "name": "stdout",
     "output_type": "stream",
     "text": [
      "\n",
      "Missing Values:\n"
     ]
    },
    {
     "data": {
      "text/plain": [
       "Unnamed: 0            0\n",
       "TRIP_ID               0\n",
       "CALL_TYPE             0\n",
       "ORIGIN_CALL     1311436\n",
       "ORIGIN_STAND     876466\n",
       "TAXI_ID               0\n",
       "TIMESTAMP             0\n",
       "DAY_TYPE              0\n",
       "MISSING_DATA          0\n",
       "POLYLINE              0\n",
       "dtype: int64"
      ]
     },
     "execution_count": 14,
     "metadata": {},
     "output_type": "execute_result"
    }
   ],
   "source": [
    "# Check for other missing values\n",
    "print(\"\\nMissing Values:\")\n",
    "df.isnull().sum()"
   ]
  },
  {
   "cell_type": "markdown",
   "metadata": {},
   "source": [
    "- Drop `Unnamed: 0` (unnecessary index columns).  \n",
    "- `ORIGIN_CALL` and `ORIGIN_STAND` have significant missing values but thats fine as they not used for our model predictions\n",
    "- `POLYLINE` is an object but contains lists (keep as is).  \n",
    "- Convert `TIMESTAMP` to datetime for better analysis.  \n"
   ]
  },
  {
   "cell_type": "code",
   "execution_count": 16,
   "metadata": {},
   "outputs": [
    {
     "name": "stdout",
     "output_type": "stream",
     "text": [
      "\n",
      "Updated Dataset Info:\n",
      "<class 'pandas.core.frame.DataFrame'>\n",
      "Index: 1674152 entries, 0 to 1710669\n",
      "Data columns (total 9 columns):\n",
      " #   Column        Non-Null Count    Dtype         \n",
      "---  ------        --------------    -----         \n",
      " 0   TRIP_ID       1674152 non-null  int64         \n",
      " 1   CALL_TYPE     1674152 non-null  object        \n",
      " 2   ORIGIN_CALL   362716 non-null   float64       \n",
      " 3   ORIGIN_STAND  797686 non-null   float64       \n",
      " 4   TAXI_ID       1674152 non-null  int64         \n",
      " 5   TIMESTAMP     1674152 non-null  datetime64[ns]\n",
      " 6   DAY_TYPE      1674152 non-null  object        \n",
      " 7   MISSING_DATA  1674152 non-null  bool          \n",
      " 8   POLYLINE      1674152 non-null  object        \n",
      "dtypes: bool(1), datetime64[ns](1), float64(2), int64(2), object(3)\n",
      "memory usage: 116.6+ MB\n"
     ]
    }
   ],
   "source": [
    "# Drop unnecessary index columns\n",
    "df.drop(columns=['Unnamed: 0'], inplace=True)\n",
    "\n",
    "# Convert TIMESTAMP to datetime format\n",
    "df['TIMESTAMP'] = pd.to_datetime(df['TIMESTAMP'], unit='s')\n",
    "\n",
    "# Display the updated dataset info\n",
    "print(\"\\nUpdated Dataset Info:\")\n",
    "df.info()"
   ]
  },
  {
   "cell_type": "markdown",
   "metadata": {},
   "source": [
    "- `ORIGIN_CALL` (~78% missing) -> Drop it.  \n",
    "- `ORIGIN_STAND` (~52% missing) -> Fill NaNs with `0` (assuming it means no stand).  \n",
    "\n"
   ]
  },
  {
   "cell_type": "code",
   "execution_count": 18,
   "metadata": {},
   "outputs": [
    {
     "name": "stderr",
     "output_type": "stream",
     "text": [
      "/var/folders/mv/1l8hsgqn1gg1ysw_5rvfsz7c0000gp/T/ipykernel_99446/1700559561.py:5: FutureWarning: A value is trying to be set on a copy of a DataFrame or Series through chained assignment using an inplace method.\n",
      "The behavior will change in pandas 3.0. This inplace method will never work because the intermediate object on which we are setting values always behaves as a copy.\n",
      "\n",
      "For example, when doing 'df[col].method(value, inplace=True)', try using 'df.method({col: value}, inplace=True)' or df[col] = df[col].method(value) instead, to perform the operation inplace on the original object.\n",
      "\n",
      "\n",
      "  df['ORIGIN_STAND'].fillna(0, inplace=True)\n"
     ]
    },
    {
     "name": "stdout",
     "output_type": "stream",
     "text": [
      "\n",
      "Updated Missing Values Count:\n"
     ]
    },
    {
     "data": {
      "text/plain": [
       "TRIP_ID         0\n",
       "CALL_TYPE       0\n",
       "ORIGIN_STAND    0\n",
       "TAXI_ID         0\n",
       "TIMESTAMP       0\n",
       "DAY_TYPE        0\n",
       "MISSING_DATA    0\n",
       "POLYLINE        0\n",
       "dtype: int64"
      ]
     },
     "execution_count": 18,
     "metadata": {},
     "output_type": "execute_result"
    }
   ],
   "source": [
    "# Drop ORIGIN_CALL column due to excessive missing values\n",
    "df.drop(columns=['ORIGIN_CALL'], inplace=True)\n",
    "\n",
    "# Fill ORIGIN_STAND NaN values with 0\n",
    "df['ORIGIN_STAND'].fillna(0, inplace=True)\n",
    "\n",
    "# Verify changes\n",
    "print(\"\\nUpdated Missing Values Count:\")\n",
    "df.isnull().sum()\n",
    "\n",
    "\n"
   ]
  },
  {
   "cell_type": "code",
   "execution_count": 19,
   "metadata": {},
   "outputs": [
    {
     "name": "stdout",
     "output_type": "stream",
     "text": [
      "\n",
      "Dataset Info After Handling Missing Values:\n",
      "<class 'pandas.core.frame.DataFrame'>\n",
      "Index: 1674152 entries, 0 to 1710669\n",
      "Data columns (total 8 columns):\n",
      " #   Column        Non-Null Count    Dtype         \n",
      "---  ------        --------------    -----         \n",
      " 0   TRIP_ID       1674152 non-null  int64         \n",
      " 1   CALL_TYPE     1674152 non-null  object        \n",
      " 2   ORIGIN_STAND  1674152 non-null  float64       \n",
      " 3   TAXI_ID       1674152 non-null  int64         \n",
      " 4   TIMESTAMP     1674152 non-null  datetime64[ns]\n",
      " 5   DAY_TYPE      1674152 non-null  object        \n",
      " 6   MISSING_DATA  1674152 non-null  bool          \n",
      " 7   POLYLINE      1674152 non-null  object        \n",
      "dtypes: bool(1), datetime64[ns](1), float64(1), int64(2), object(3)\n",
      "memory usage: 103.8+ MB\n"
     ]
    }
   ],
   "source": [
    "# Display dataset info after modifications\n",
    "print(\"\\nDataset Info After Handling Missing Values:\")\n",
    "df.info()"
   ]
  },
  {
   "cell_type": "markdown",
   "metadata": {},
   "source": [
    "- Extract `hour`, `day of the week`, and `month` from `TIMESTAMP` for trend analysis.  \n",
    "- Plot trip frequency by hour to identify peak demand times.  \n"
   ]
  },
  {
   "cell_type": "code",
   "execution_count": 22,
   "metadata": {},
   "outputs": [
    {
     "name": "stderr",
     "output_type": "stream",
     "text": [
      "/var/folders/mv/1l8hsgqn1gg1ysw_5rvfsz7c0000gp/T/ipykernel_99446/4199309074.py:11: FutureWarning: \n",
      "\n",
      "Passing `palette` without assigning `hue` is deprecated and will be removed in v0.14.0. Assign the `x` variable to `hue` and set `legend=False` for the same effect.\n",
      "\n",
      "  sns.barplot(x=hourly_trips.index, y=hourly_trips.values, palette=\"viridis\")\n"
     ]
    },
    {
     "data": {
      "image/png": "[encoded data removed]",
      "text/plain": [
       "<Figure size 1200x600 with 1 Axes>"
      ]
     },
     "metadata": {},
     "output_type": "display_data"
    }
   ],
   "source": [
    "# Extract date-related features\n",
    "df['HOUR'] = df['TIMESTAMP'].dt.hour\n",
    "df['DAY_OF_WEEK'] = df['TIMESTAMP'].dt.dayofweek  # Monday = 0, Sunday = 6\n",
    "df['MONTH'] = df['TIMESTAMP'].dt.month\n",
    "\n",
    "# Count trips per hour\n",
    "hourly_trips = df['HOUR'].value_counts().sort_index()\n",
    "\n",
    "# Plot trip frequency by hour\n",
    "plt.figure(figsize=(12, 6))\n",
    "sns.barplot(x=hourly_trips.index, y=hourly_trips.values, palette=\"viridis\")\n",
    "plt.xlabel(\"Hour of the Day\")\n",
    "plt.ylabel(\"Number of Trips\")\n",
    "plt.title(\"Taxi Trips by Hour of the Day\")\n",
    "plt.xticks(range(0, 24))\n",
    "plt.grid(axis='y')\n",
    "plt.show()\n"
   ]
  },
  {
   "cell_type": "markdown",
   "metadata": {},
   "source": [
    "- **Morning & Evening Peaks:**  \n",
    "  - Surge in trips from **8-10 AM** (morning commute).  \n",
    "  - Another peak from **4-6 PM** (evening rush).  \n",
    "\n",
    "- **Nighttime Drop:**  \n",
    "  - Significant decline after **9 PM**, staying low until early morning.  \n",
    "\n",
    "- **Steady Midday Usage:**  \n",
    "  - Consistent trip volume between **10 AM - 4 PM**.  \n",
    "\n",
    "- Next: Analyze trip patterns across weekdays vs. weekends.  "
   ]
  },
  {
   "cell_type": "code",
   "execution_count": 52,
   "metadata": {},
   "outputs": [
    {
     "name": "stderr",
     "output_type": "stream",
     "text": [
      "C:\\Users\\Mohammad\\AppData\\Local\\Temp\\ipykernel_6192\\1093820536.py:10: FutureWarning: \n",
      "\n",
      "Passing `palette` without assigning `hue` is deprecated and will be removed in v0.14.0. Assign the `x` variable to `hue` and set `legend=False` for the same effect.\n",
      "\n",
      "  sns.barplot(x=day_labels, y=day_of_week_trips.values, palette=\"viridis\")\n"
     ]
    },
    {
     "data": {
      "image/png": "[encoded data removed]",
      "text/plain": [
       "<Figure size 1000x600 with 1 Axes>"
      ]
     },
     "metadata": {},
     "output_type": "display_data"
    }
   ],
   "source": [
    "# Count trips by day of the week\n",
    "day_of_week_trips = df['DAY_OF_WEEK'].value_counts().sort_index()\n",
    "\n",
    "# Day mapping for better labels\n",
    "day_mapping = {0: 'Monday', 1: 'Tuesday', 2: 'Wednesday', 3: 'Thursday', 4: 'Friday', 5: 'Saturday', 6: 'Sunday'}\n",
    "day_labels = [day_mapping[day] for day in day_of_week_trips.index]\n",
    "\n",
    "# Plot trip frequency by day of the week\n",
    "plt.figure(figsize=(10, 6))\n",
    "sns.barplot(x=day_labels, y=day_of_week_trips.values, palette=\"viridis\")\n",
    "plt.xlabel(\"Day of the Week\")\n",
    "plt.ylabel(\"Number of Trips\")\n",
    "plt.title(\"Taxi Trips by Day of the Week\")\n",
    "plt.xticks(rotation=45)\n",
    "plt.grid(axis='y')\n",
    "plt.show()\n"
   ]
  },
  {
   "cell_type": "markdown",
   "metadata": {},
   "source": [
    "- Friday and Saturday have the highest demand, likely due to nightlife and weekend activities.  \n",
    "- Monday to Thursday show steady trip volumes, typical of workweek commutes.  \n",
    "- Sunday sees a slight drop, may be a rest day for many people, or possibly due to reduced travel demand.  \n",
    "\n",
    "Next:\n",
    "- Compute, analyze and plot a histogram of `TRAJECTORY_LENGTH` (number of GPS points in a trip) to observe its distribution.  \n",
    "- Identify potential outliers or unusual trends.  \n",
    "\n"
   ]
  },
  {
   "cell_type": "code",
   "execution_count": 23,
   "metadata": {},
   "outputs": [],
   "source": [
    "# Compute trajectory lengths\n",
    "df['TRAJECTORY_LENGTH'] = df['POLYLINE'].apply(len)\n"
   ]
  },
  {
   "cell_type": "code",
   "execution_count": 24,
   "metadata": {},
   "outputs": [
    {
     "name": "stdout",
     "output_type": "stream",
     "text": [
      "Average Trajectory Length: 49.80301071826214\n",
      "Maximum Trajectory Length: 3881\n",
      "Minimum Trajectory Length: 2\n",
      "Median Trajectory Length: 42.0\n"
     ]
    }
   ],
   "source": [
    "# Compute basic statistics\n",
    "average_length = df['TRAJECTORY_LENGTH'].mean()\n",
    "max_length = df['TRAJECTORY_LENGTH'].max()\n",
    "min_length = df['TRAJECTORY_LENGTH'].min()\n",
    "median_length = df['TRAJECTORY_LENGTH'].median()\n",
    "\n",
    "print(f\"Average Trajectory Length: {average_length}\")\n",
    "print(f\"Maximum Trajectory Length: {max_length}\")\n",
    "print(f\"Minimum Trajectory Length: {min_length}\")\n",
    "print(f\"Median Trajectory Length: {median_length}\")"
   ]
  },
  {
   "cell_type": "code",
   "execution_count": 25,
   "metadata": {},
   "outputs": [
    {
     "data": {
      "image/png": "[encoded data removed]",
      "text/plain": [
       "<Figure size 1200x600 with 1 Axes>"
      ]
     },
     "metadata": {},
     "output_type": "display_data"
    }
   ],
   "source": [
    "# Plot the distribution of TRAJECTORY_LENGTH\n",
    "plt.figure(figsize=(12, 6))\n",
    "sns.histplot(df['TRAJECTORY_LENGTH'], bins=50, kde=True, color=\"blue\")\n",
    "plt.xlabel(\"Trajectory Length (Number of GPS Points)\")\n",
    "plt.ylabel(\"Frequency\")\n",
    "plt.title(\"Distribution of Trajectory Lengths\")\n",
    "plt.grid(axis='y')\n",
    "plt.show()\n"
   ]
  },
  {
   "cell_type": "markdown",
   "metadata": {},
   "source": [
    "- Most trips are short, with a high frequency under **100 GPS points**.  \n",
    "- A long tail exists, indicating some long-distance trips.  \n",
    "- Potential outliers: trips above **300 GPS points** may be long-distance or erroneous.  \n",
    "- Typical trip lengths fall between **20-100 GPS points**.  \n"
   ]
  },
  {
   "cell_type": "markdown",
   "metadata": {},
   "source": [
    "Next:\n",
    "- Get summary stats for `TRAJECTORY_LENGTH` to see typical trip lengths.  \n",
    "- Use the IQR method to spot and summarize any unusually long trips.  \n"
   ]
  },
  {
   "cell_type": "code",
   "execution_count": 30,
   "metadata": {},
   "outputs": [
    {
     "name": "stdout",
     "output_type": "stream",
     "text": [
      "\n",
      "Trajectory Length Statistics:\n",
      "count    1.674152e+06\n",
      "mean     4.980301e+01\n",
      "std      4.558953e+01\n",
      "min      2.000000e+00\n",
      "25%      2.900000e+01\n",
      "50%      4.200000e+01\n",
      "75%      5.900000e+01\n",
      "max      3.881000e+03\n",
      "Name: TRAJECTORY_LENGTH, dtype: float64\n",
      "\n",
      "Outlier Thresholds: Lower = -16.0, Upper = 104.0\n",
      "\n",
      "Number of Outliers: 81116\n",
      "\n",
      "Sample Outliers:\n"
     ]
    },
    {
     "data": {
      "text/html": [
       "<div>\n",
       "<style scoped>\n",
       "    .dataframe tbody tr th:only-of-type {\n",
       "        vertical-align: middle;\n",
       "    }\n",
       "\n",
       "    .dataframe tbody tr th {\n",
       "        vertical-align: top;\n",
       "    }\n",
       "\n",
       "    .dataframe thead th {\n",
       "        text-align: right;\n",
       "    }\n",
       "</style>\n",
       "<table border=\"1\" class=\"dataframe\">\n",
       "  <thead>\n",
       "    <tr style=\"text-align: right;\">\n",
       "      <th></th>\n",
       "      <th>TRIP_ID</th>\n",
       "      <th>CALL_TYPE</th>\n",
       "      <th>ORIGIN_STAND</th>\n",
       "      <th>TAXI_ID</th>\n",
       "      <th>TIMESTAMP</th>\n",
       "      <th>DAY_TYPE</th>\n",
       "      <th>MISSING_DATA</th>\n",
       "      <th>POLYLINE</th>\n",
       "      <th>HOUR</th>\n",
       "      <th>DAY_OF_WEEK</th>\n",
       "      <th>MONTH</th>\n",
       "      <th>TRAJECTORY_LENGTH</th>\n",
       "    </tr>\n",
       "  </thead>\n",
       "  <tbody>\n",
       "    <tr>\n",
       "      <th>45</th>\n",
       "      <td>1372639536620000570</td>\n",
       "      <td>A</td>\n",
       "      <td>0.0</td>\n",
       "      <td>20000570</td>\n",
       "      <td>2013-07-01 00:45:36</td>\n",
       "      <td>A</td>\n",
       "      <td>False</td>\n",
       "      <td>[[-8.663409, 41.180724], [-8.665209, 41.18112]...</td>\n",
       "      <td>0</td>\n",
       "      <td>0</td>\n",
       "      <td>7</td>\n",
       "      <td>145</td>\n",
       "    </tr>\n",
       "    <tr>\n",
       "      <th>73</th>\n",
       "      <td>1372638303620000112</td>\n",
       "      <td>A</td>\n",
       "      <td>0.0</td>\n",
       "      <td>20000112</td>\n",
       "      <td>2013-07-01 00:25:03</td>\n",
       "      <td>A</td>\n",
       "      <td>False</td>\n",
       "      <td>[[-8.587116, 41.162427], [-8.586198, 41.162112...</td>\n",
       "      <td>0</td>\n",
       "      <td>0</td>\n",
       "      <td>7</td>\n",
       "      <td>116</td>\n",
       "    </tr>\n",
       "    <tr>\n",
       "      <th>86</th>\n",
       "      <td>1372637754620000007</td>\n",
       "      <td>C</td>\n",
       "      <td>0.0</td>\n",
       "      <td>20000007</td>\n",
       "      <td>2013-07-01 00:15:54</td>\n",
       "      <td>A</td>\n",
       "      <td>False</td>\n",
       "      <td>[[-8.645373, 41.008275], [-8.645427, 41.00886]...</td>\n",
       "      <td>0</td>\n",
       "      <td>0</td>\n",
       "      <td>7</td>\n",
       "      <td>105</td>\n",
       "    </tr>\n",
       "    <tr>\n",
       "      <th>93</th>\n",
       "      <td>1372644253620000574</td>\n",
       "      <td>C</td>\n",
       "      <td>0.0</td>\n",
       "      <td>20000574</td>\n",
       "      <td>2013-07-01 02:04:13</td>\n",
       "      <td>A</td>\n",
       "      <td>False</td>\n",
       "      <td>[[-8.640792, 41.149026], [-8.640126, 41.146227...</td>\n",
       "      <td>2</td>\n",
       "      <td>0</td>\n",
       "      <td>7</td>\n",
       "      <td>141</td>\n",
       "    </tr>\n",
       "    <tr>\n",
       "      <th>102</th>\n",
       "      <td>1372638616620000672</td>\n",
       "      <td>C</td>\n",
       "      <td>0.0</td>\n",
       "      <td>20000672</td>\n",
       "      <td>2013-07-01 00:30:16</td>\n",
       "      <td>A</td>\n",
       "      <td>False</td>\n",
       "      <td>[[-8.67411, 41.153868], [-8.674119, 41.153841]...</td>\n",
       "      <td>0</td>\n",
       "      <td>0</td>\n",
       "      <td>7</td>\n",
       "      <td>112</td>\n",
       "    </tr>\n",
       "  </tbody>\n",
       "</table>\n",
       "</div>"
      ],
      "text/plain": [
       "                 TRIP_ID CALL_TYPE  ORIGIN_STAND   TAXI_ID  \\\n",
       "45   1372639536620000570         A           0.0  20000570   \n",
       "73   1372638303620000112         A           0.0  20000112   \n",
       "86   1372637754620000007         C           0.0  20000007   \n",
       "93   1372644253620000574         C           0.0  20000574   \n",
       "102  1372638616620000672         C           0.0  20000672   \n",
       "\n",
       "              TIMESTAMP DAY_TYPE  MISSING_DATA  \\\n",
       "45  2013-07-01 00:45:36        A         False   \n",
       "73  2013-07-01 00:25:03        A         False   \n",
       "86  2013-07-01 00:15:54        A         False   \n",
       "93  2013-07-01 02:04:13        A         False   \n",
       "102 2013-07-01 00:30:16        A         False   \n",
       "\n",
       "                                              POLYLINE  HOUR  DAY_OF_WEEK  \\\n",
       "45   [[-8.663409, 41.180724], [-8.665209, 41.18112]...     0            0   \n",
       "73   [[-8.587116, 41.162427], [-8.586198, 41.162112...     0            0   \n",
       "86   [[-8.645373, 41.008275], [-8.645427, 41.00886]...     0            0   \n",
       "93   [[-8.640792, 41.149026], [-8.640126, 41.146227...     2            0   \n",
       "102  [[-8.67411, 41.153868], [-8.674119, 41.153841]...     0            0   \n",
       "\n",
       "     MONTH  TRAJECTORY_LENGTH  \n",
       "45       7                145  \n",
       "73       7                116  \n",
       "86       7                105  \n",
       "93       7                141  \n",
       "102      7                112  "
      ]
     },
     "execution_count": 30,
     "metadata": {},
     "output_type": "execute_result"
    }
   ],
   "source": [
    "# Compute descriptive statistics\n",
    "trajectory_stats = df['TRAJECTORY_LENGTH'].describe()\n",
    "print(\"\\nTrajectory Length Statistics:\")\n",
    "print(trajectory_stats)\n",
    "\n",
    "# Define IQR for outlier detection\n",
    "Q1 = trajectory_stats['25%']\n",
    "Q3 = trajectory_stats['75%']\n",
    "IQR = Q3 - Q1\n",
    "\n",
    "# Define outlier thresholds\n",
    "lower_bound = Q1 - 1.5 * IQR\n",
    "upper_bound = Q3 + 1.5 * IQR\n",
    "\n",
    "print(f\"\\nOutlier Thresholds: Lower = {lower_bound}, Upper = {upper_bound}\")\n",
    "\n",
    "# Count outliers\n",
    "outliers = df[(df['TRAJECTORY_LENGTH'] < lower_bound) | (df['TRAJECTORY_LENGTH'] > upper_bound)]\n",
    "print(f\"\\nNumber of Outliers: {len(outliers)}\")\n",
    "\n",
    "# Display sample of outliers\n",
    "print(\"\\nSample Outliers:\")\n",
    "outliers.head()\n"
   ]
  },
  {
   "cell_type": "markdown",
   "metadata": {},
   "source": [
    "- **Outlier Thresholds:** Anything above **104 GPS points** is an outlier (no lower outliers).  \n",
    "- **Outlier Count:** **81116** (~4.84% of the data) exceed this threshold.  \n",
    "- **Nature of Outliers:** These are extra-long trips, but some might be data errors.  \n",
    "\n",
    "We have two options:\n",
    "- **Option 1: Cap Lengths** -> Keep all data but limit extreme values.  \n",
    "- **Option 2: Remove Outliers** -> Get a cleaner dataset, reducing noise.  \n",
    "\n",
    "Went with: Remove Outliers  \n",
    "- **Better Model Accuracy:** Prevents extreme trips from skewing predictions.  \n",
    "- **Cleaner Data:** Focuses on typical taxi trips, improving reliability.  \n",
    "- **Easier Analysis:** Makes trends clearer and models simpler to train.  \n",
    "\n",
    "Next Steps  \n",
    "- Drop all trips where `TRAJECTORY_LENGTH` is over **104 GPS points**.  \n",
    "\n"
   ]
  },
  {
   "cell_type": "code",
   "execution_count": 33,
   "metadata": {},
   "outputs": [
    {
     "name": "stdout",
     "output_type": "stream",
     "text": [
      "Original Dataset Size: 1674152\n",
      "Cleaned Dataset Size: 1593036\n",
      "Number of Rows Removed: 81116\n",
      "\n",
      "Trajectory Length Statistics (After Outlier Removal):\n",
      "count    1.593036e+06\n",
      "mean     4.348283e+01\n",
      "std      2.060735e+01\n",
      "min      2.000000e+00\n",
      "25%      2.800000e+01\n",
      "50%      4.100000e+01\n",
      "75%      5.600000e+01\n",
      "max      1.040000e+02\n",
      "Name: TRAJECTORY_LENGTH, dtype: float64\n"
     ]
    }
   ],
   "source": [
    "# Remove outliers\n",
    "cleaned_df = df[df['TRAJECTORY_LENGTH'] <= 104]\n",
    "\n",
    "# Check the shape of the dataset after removal\n",
    "print(f\"Original Dataset Size: {df.shape[0]}\")\n",
    "print(f\"Cleaned Dataset Size: {cleaned_df.shape[0]}\")\n",
    "print(f\"Number of Rows Removed: {df.shape[0] - cleaned_df.shape[0]}\")\n",
    "\n",
    "# Display descriptive statistics of TRAJECTORY_LENGTH after removal\n",
    "print(\"\\nTrajectory Length Statistics (After Outlier Removal):\")\n",
    "print(cleaned_df['TRAJECTORY_LENGTH'].describe())\n"
   ]
  },
  {
   "cell_type": "markdown",
   "metadata": {},
   "source": [
    "- **Dataset Reduction:** Now **1,593,036 rows**.  \n",
    "- **Updated Stats:**  \n",
    "  - Mean trajectory length: **43.48 GPS points** (was 48.88).  \n",
    "  - Standard deviation: **20.61** (less spread out).  \n",
    "  - Max length: **104 GPS points** (the set cap).  \n",
    "\n"
   ]
  },
  {
   "cell_type": "markdown",
   "metadata": {},
   "source": [
    "- Convert `CALL_TYPE` and `DAY_TYPE` into numbers for modeling.  \n",
    " \n"
   ]
  },
  {
   "cell_type": "code",
   "execution_count": 34,
   "metadata": {},
   "outputs": [
    {
     "name": "stdout",
     "output_type": "stream",
     "text": [
      "\n",
      "Prepared Dataset Info:\n",
      "<class 'pandas.core.frame.DataFrame'>\n",
      "Index: 1593036 entries, 0 to 1710669\n",
      "Data columns (total 12 columns):\n",
      " #   Column             Non-Null Count    Dtype         \n",
      "---  ------             --------------    -----         \n",
      " 0   TRIP_ID            1593036 non-null  int64         \n",
      " 1   CALL_TYPE          1593036 non-null  int8          \n",
      " 2   ORIGIN_STAND       1593036 non-null  float64       \n",
      " 3   TAXI_ID            1593036 non-null  int64         \n",
      " 4   TIMESTAMP          1593036 non-null  datetime64[ns]\n",
      " 5   DAY_TYPE           1593036 non-null  int8          \n",
      " 6   MISSING_DATA       1593036 non-null  bool          \n",
      " 7   POLYLINE           1593036 non-null  object        \n",
      " 8   HOUR               1593036 non-null  int32         \n",
      " 9   DAY_OF_WEEK        1593036 non-null  int32         \n",
      " 10  MONTH              1593036 non-null  int32         \n",
      " 11  TRAJECTORY_LENGTH  1593036 non-null  int64         \n",
      "dtypes: bool(1), datetime64[ns](1), float64(1), int32(3), int64(3), int8(2), object(1)\n",
      "memory usage: 107.9+ MB\n",
      "None\n",
      "\n",
      "Sample Rows:\n"
     ]
    },
    {
     "data": {
      "text/html": [
       "<div>\n",
       "<style scoped>\n",
       "    .dataframe tbody tr th:only-of-type {\n",
       "        vertical-align: middle;\n",
       "    }\n",
       "\n",
       "    .dataframe tbody tr th {\n",
       "        vertical-align: top;\n",
       "    }\n",
       "\n",
       "    .dataframe thead th {\n",
       "        text-align: right;\n",
       "    }\n",
       "</style>\n",
       "<table border=\"1\" class=\"dataframe\">\n",
       "  <thead>\n",
       "    <tr style=\"text-align: right;\">\n",
       "      <th></th>\n",
       "      <th>TRIP_ID</th>\n",
       "      <th>CALL_TYPE</th>\n",
       "      <th>ORIGIN_STAND</th>\n",
       "      <th>TAXI_ID</th>\n",
       "      <th>TIMESTAMP</th>\n",
       "      <th>DAY_TYPE</th>\n",
       "      <th>MISSING_DATA</th>\n",
       "      <th>POLYLINE</th>\n",
       "      <th>HOUR</th>\n",
       "      <th>DAY_OF_WEEK</th>\n",
       "      <th>MONTH</th>\n",
       "      <th>TRAJECTORY_LENGTH</th>\n",
       "    </tr>\n",
       "  </thead>\n",
       "  <tbody>\n",
       "    <tr>\n",
       "      <th>0</th>\n",
       "      <td>1372636858620000589</td>\n",
       "      <td>2</td>\n",
       "      <td>0.0</td>\n",
       "      <td>20000589</td>\n",
       "      <td>2013-07-01 00:00:58</td>\n",
       "      <td>0</td>\n",
       "      <td>False</td>\n",
       "      <td>[[-8.618643, 41.141412], [-8.618499, 41.141376...</td>\n",
       "      <td>0</td>\n",
       "      <td>0</td>\n",
       "      <td>7</td>\n",
       "      <td>23</td>\n",
       "    </tr>\n",
       "    <tr>\n",
       "      <th>1</th>\n",
       "      <td>1372637303620000596</td>\n",
       "      <td>1</td>\n",
       "      <td>7.0</td>\n",
       "      <td>20000596</td>\n",
       "      <td>2013-07-01 00:08:23</td>\n",
       "      <td>0</td>\n",
       "      <td>False</td>\n",
       "      <td>[[-8.639847, 41.159826], [-8.640351, 41.159871...</td>\n",
       "      <td>0</td>\n",
       "      <td>0</td>\n",
       "      <td>7</td>\n",
       "      <td>19</td>\n",
       "    </tr>\n",
       "    <tr>\n",
       "      <th>2</th>\n",
       "      <td>1372636951620000320</td>\n",
       "      <td>2</td>\n",
       "      <td>0.0</td>\n",
       "      <td>20000320</td>\n",
       "      <td>2013-07-01 00:02:31</td>\n",
       "      <td>0</td>\n",
       "      <td>False</td>\n",
       "      <td>[[-8.612964, 41.140359], [-8.613378, 41.14035]...</td>\n",
       "      <td>0</td>\n",
       "      <td>0</td>\n",
       "      <td>7</td>\n",
       "      <td>65</td>\n",
       "    </tr>\n",
       "    <tr>\n",
       "      <th>3</th>\n",
       "      <td>1372636854620000520</td>\n",
       "      <td>2</td>\n",
       "      <td>0.0</td>\n",
       "      <td>20000520</td>\n",
       "      <td>2013-07-01 00:00:54</td>\n",
       "      <td>0</td>\n",
       "      <td>False</td>\n",
       "      <td>[[-8.574678, 41.151951], [-8.574705, 41.151942...</td>\n",
       "      <td>0</td>\n",
       "      <td>0</td>\n",
       "      <td>7</td>\n",
       "      <td>43</td>\n",
       "    </tr>\n",
       "    <tr>\n",
       "      <th>4</th>\n",
       "      <td>1372637091620000337</td>\n",
       "      <td>2</td>\n",
       "      <td>0.0</td>\n",
       "      <td>20000337</td>\n",
       "      <td>2013-07-01 00:04:51</td>\n",
       "      <td>0</td>\n",
       "      <td>False</td>\n",
       "      <td>[[-8.645994, 41.18049], [-8.645949, 41.180517]...</td>\n",
       "      <td>0</td>\n",
       "      <td>0</td>\n",
       "      <td>7</td>\n",
       "      <td>29</td>\n",
       "    </tr>\n",
       "  </tbody>\n",
       "</table>\n",
       "</div>"
      ],
      "text/plain": [
       "               TRIP_ID  CALL_TYPE  ORIGIN_STAND   TAXI_ID           TIMESTAMP  \\\n",
       "0  1372636858620000589          2           0.0  20000589 2013-07-01 00:00:58   \n",
       "1  1372637303620000596          1           7.0  20000596 2013-07-01 00:08:23   \n",
       "2  1372636951620000320          2           0.0  20000320 2013-07-01 00:02:31   \n",
       "3  1372636854620000520          2           0.0  20000520 2013-07-01 00:00:54   \n",
       "4  1372637091620000337          2           0.0  20000337 2013-07-01 00:04:51   \n",
       "\n",
       "   DAY_TYPE  MISSING_DATA                                           POLYLINE  \\\n",
       "0         0         False  [[-8.618643, 41.141412], [-8.618499, 41.141376...   \n",
       "1         0         False  [[-8.639847, 41.159826], [-8.640351, 41.159871...   \n",
       "2         0         False  [[-8.612964, 41.140359], [-8.613378, 41.14035]...   \n",
       "3         0         False  [[-8.574678, 41.151951], [-8.574705, 41.151942...   \n",
       "4         0         False  [[-8.645994, 41.18049], [-8.645949, 41.180517]...   \n",
       "\n",
       "   HOUR  DAY_OF_WEEK  MONTH  TRAJECTORY_LENGTH  \n",
       "0     0            0      7                 23  \n",
       "1     0            0      7                 19  \n",
       "2     0            0      7                 65  \n",
       "3     0            0      7                 43  \n",
       "4     0            0      7                 29  "
      ]
     },
     "execution_count": 34,
     "metadata": {},
     "output_type": "execute_result"
    }
   ],
   "source": [
    "cleaned_df = cleaned_df.copy()\n",
    "\n",
    "# Encode categorical variables\n",
    "cleaned_df['CALL_TYPE'] = cleaned_df['CALL_TYPE'].astype('category').cat.codes\n",
    "cleaned_df['DAY_TYPE'] = cleaned_df['DAY_TYPE'].astype('category').cat.codes\n",
    "\n",
    "\n",
    "# Display the prepared dataset info\n",
    "print(\"\\nPrepared Dataset Info:\")\n",
    "print(cleaned_df.info())\n",
    "\n",
    "# Display a sample of the prepared dataset\n",
    "print(\"\\nSample Rows:\")\n",
    "cleaned_df.head()\n"
   ]
  },
  {
   "cell_type": "code",
   "execution_count": 35,
   "metadata": {},
   "outputs": [
    {
     "name": "stdout",
     "output_type": "stream",
     "text": [
      "\n",
      "Updated Dataset Info:\n",
      "<class 'pandas.core.frame.DataFrame'>\n",
      "Index: 1593036 entries, 0 to 1710669\n",
      "Data columns (total 11 columns):\n",
      " #   Column             Non-Null Count    Dtype         \n",
      "---  ------             --------------    -----         \n",
      " 0   TRIP_ID            1593036 non-null  int64         \n",
      " 1   CALL_TYPE          1593036 non-null  int8          \n",
      " 2   ORIGIN_STAND       1593036 non-null  float64       \n",
      " 3   TAXI_ID            1593036 non-null  int64         \n",
      " 4   TIMESTAMP          1593036 non-null  datetime64[ns]\n",
      " 5   DAY_TYPE           1593036 non-null  int8          \n",
      " 6   POLYLINE           1593036 non-null  object        \n",
      " 7   HOUR               1593036 non-null  int32         \n",
      " 8   DAY_OF_WEEK        0 non-null        float64       \n",
      " 9   MONTH              1593036 non-null  int32         \n",
      " 10  TRAJECTORY_LENGTH  1593036 non-null  int64         \n",
      "dtypes: datetime64[ns](1), float64(2), int32(2), int64(3), int8(2), object(1)\n",
      "memory usage: 112.4+ MB\n",
      "None\n",
      "\n",
      "Sample Rows:\n"
     ]
    },
    {
     "data": {
      "text/html": [
       "<div>\n",
       "<style scoped>\n",
       "    .dataframe tbody tr th:only-of-type {\n",
       "        vertical-align: middle;\n",
       "    }\n",
       "\n",
       "    .dataframe tbody tr th {\n",
       "        vertical-align: top;\n",
       "    }\n",
       "\n",
       "    .dataframe thead th {\n",
       "        text-align: right;\n",
       "    }\n",
       "</style>\n",
       "<table border=\"1\" class=\"dataframe\">\n",
       "  <thead>\n",
       "    <tr style=\"text-align: right;\">\n",
       "      <th></th>\n",
       "      <th>TRIP_ID</th>\n",
       "      <th>CALL_TYPE</th>\n",
       "      <th>ORIGIN_STAND</th>\n",
       "      <th>TAXI_ID</th>\n",
       "      <th>TIMESTAMP</th>\n",
       "      <th>DAY_TYPE</th>\n",
       "      <th>POLYLINE</th>\n",
       "      <th>HOUR</th>\n",
       "      <th>DAY_OF_WEEK</th>\n",
       "      <th>MONTH</th>\n",
       "      <th>TRAJECTORY_LENGTH</th>\n",
       "    </tr>\n",
       "  </thead>\n",
       "  <tbody>\n",
       "    <tr>\n",
       "      <th>0</th>\n",
       "      <td>1372636858620000589</td>\n",
       "      <td>2</td>\n",
       "      <td>0.0</td>\n",
       "      <td>20000589</td>\n",
       "      <td>2013-07-01 00:00:58</td>\n",
       "      <td>0</td>\n",
       "      <td>[[-8.618643, 41.141412], [-8.618499, 41.141376...</td>\n",
       "      <td>0</td>\n",
       "      <td>NaN</td>\n",
       "      <td>7</td>\n",
       "      <td>23</td>\n",
       "    </tr>\n",
       "    <tr>\n",
       "      <th>1</th>\n",
       "      <td>1372637303620000596</td>\n",
       "      <td>1</td>\n",
       "      <td>7.0</td>\n",
       "      <td>20000596</td>\n",
       "      <td>2013-07-01 00:08:23</td>\n",
       "      <td>0</td>\n",
       "      <td>[[-8.639847, 41.159826], [-8.640351, 41.159871...</td>\n",
       "      <td>0</td>\n",
       "      <td>NaN</td>\n",
       "      <td>7</td>\n",
       "      <td>19</td>\n",
       "    </tr>\n",
       "    <tr>\n",
       "      <th>2</th>\n",
       "      <td>1372636951620000320</td>\n",
       "      <td>2</td>\n",
       "      <td>0.0</td>\n",
       "      <td>20000320</td>\n",
       "      <td>2013-07-01 00:02:31</td>\n",
       "      <td>0</td>\n",
       "      <td>[[-8.612964, 41.140359], [-8.613378, 41.14035]...</td>\n",
       "      <td>0</td>\n",
       "      <td>NaN</td>\n",
       "      <td>7</td>\n",
       "      <td>65</td>\n",
       "    </tr>\n",
       "    <tr>\n",
       "      <th>3</th>\n",
       "      <td>1372636854620000520</td>\n",
       "      <td>2</td>\n",
       "      <td>0.0</td>\n",
       "      <td>20000520</td>\n",
       "      <td>2013-07-01 00:00:54</td>\n",
       "      <td>0</td>\n",
       "      <td>[[-8.574678, 41.151951], [-8.574705, 41.151942...</td>\n",
       "      <td>0</td>\n",
       "      <td>NaN</td>\n",
       "      <td>7</td>\n",
       "      <td>43</td>\n",
       "    </tr>\n",
       "    <tr>\n",
       "      <th>4</th>\n",
       "      <td>1372637091620000337</td>\n",
       "      <td>2</td>\n",
       "      <td>0.0</td>\n",
       "      <td>20000337</td>\n",
       "      <td>2013-07-01 00:04:51</td>\n",
       "      <td>0</td>\n",
       "      <td>[[-8.645994, 41.18049], [-8.645949, 41.180517]...</td>\n",
       "      <td>0</td>\n",
       "      <td>NaN</td>\n",
       "      <td>7</td>\n",
       "      <td>29</td>\n",
       "    </tr>\n",
       "  </tbody>\n",
       "</table>\n",
       "</div>"
      ],
      "text/plain": [
       "               TRIP_ID  CALL_TYPE  ORIGIN_STAND   TAXI_ID           TIMESTAMP  \\\n",
       "0  1372636858620000589          2           0.0  20000589 2013-07-01 00:00:58   \n",
       "1  1372637303620000596          1           7.0  20000596 2013-07-01 00:08:23   \n",
       "2  1372636951620000320          2           0.0  20000320 2013-07-01 00:02:31   \n",
       "3  1372636854620000520          2           0.0  20000520 2013-07-01 00:00:54   \n",
       "4  1372637091620000337          2           0.0  20000337 2013-07-01 00:04:51   \n",
       "\n",
       "   DAY_TYPE                                           POLYLINE  HOUR  \\\n",
       "0         0  [[-8.618643, 41.141412], [-8.618499, 41.141376...     0   \n",
       "1         0  [[-8.639847, 41.159826], [-8.640351, 41.159871...     0   \n",
       "2         0  [[-8.612964, 41.140359], [-8.613378, 41.14035]...     0   \n",
       "3         0  [[-8.574678, 41.151951], [-8.574705, 41.151942...     0   \n",
       "4         0  [[-8.645994, 41.18049], [-8.645949, 41.180517]...     0   \n",
       "\n",
       "   DAY_OF_WEEK  MONTH  TRAJECTORY_LENGTH  \n",
       "0          NaN      7                 23  \n",
       "1          NaN      7                 19  \n",
       "2          NaN      7                 65  \n",
       "3          NaN      7                 43  \n",
       "4          NaN      7                 29  "
      ]
     },
     "execution_count": 35,
     "metadata": {},
     "output_type": "execute_result"
    }
   ],
   "source": [
    "# Encode DAY_OF_WEEK into numeric values\n",
    "day_mapping = {'Monday': 0, 'Tuesday': 1, 'Wednesday': 2, 'Thursday': 3, \n",
    "               'Friday': 4, 'Saturday': 5, 'Sunday': 6}\n",
    "cleaned_df['DAY_OF_WEEK'] = cleaned_df['DAY_OF_WEEK'].map(day_mapping)\n",
    "\n",
    "# drop MISSING_Data \n",
    "model_df = cleaned_df.drop(columns=['MISSING_DATA'])\n",
    "\n",
    "# Display updated dataset info\n",
    "print(\"\\nUpdated Dataset Info:\")\n",
    "print(model_df.info())\n",
    "\n",
    "# Display a sample of the finalized dataset\n",
    "print(\"\\nSample Rows:\")\n",
    "model_df.head()\n"
   ]
  },
  {
   "cell_type": "code",
   "execution_count": 37,
   "metadata": {},
   "outputs": [
    {
     "name": "stdout",
     "output_type": "stream",
     "text": [
      "\n",
      "Cleaned dataset saved as 'cleaned_taxi_data.csv'.\n"
     ]
    }
   ],
   "source": [
    "# Save the original cleaned dataset to a CSV file\n",
    "model_df.to_csv('taxi_trajectories/cleaned_taxi_data.csv', index=False)\n",
    "\n",
    "# Confirm the file was saved\n",
    "print(\"\\nCleaned dataset saved as 'cleaned_taxi_data.csv'.\")\n"
   ]
  }
 ],
 "metadata": {
  "kernelspec": {
   "display_name": "Python 3",
   "language": "python",
   "name": "python3"
  },
  "language_info": {
   "codemirror_mode": {
    "name": "ipython",
    "version": 3
   },
   "file_extension": ".py",
   "mimetype": "text/x-python",
   "name": "python",
   "nbconvert_exporter": "python",
   "pygments_lexer": "ipython3",
   "version": "3.11.9"
  }
 },
 "nbformat": 4,
 "nbformat_minor": 2
}
